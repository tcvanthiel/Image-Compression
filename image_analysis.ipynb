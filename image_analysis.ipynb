{
 "cells": [
  {
   "cell_type": "code",
   "execution_count": 18,
   "metadata": {},
   "outputs": [],
   "source": [
    "import matplotlib.pyplot as plt\n",
    "import numpy as np\n",
    "\n",
    "def decompose_rgb(image):\n",
    "    \"\"\"\n",
    "    Decompose rgb image into its red, green and blue components. Output three arrays\n",
    "    \"\"\"\n",
    "    image_r = image[:,:,0] #Extract the red values from the RGB code\n",
    "    image_g = image[:,:,1] #Extract the green values from the RGB code\n",
    "    image_b = image[:,:,2] #Extract the blue values from the RGB code\n",
    "    \n",
    "    return(image_r,image_g,image_b)\n",
    "\n",
    "def matrix_to_image(input_matrix):\n",
    "    dummy_image = np.ones((input_matrix.shape[0],input_matrix[1],3))/256\n",
    "    matrix_reshaped = np.asarray(input_matrix[:,:,np.newaxis])   #Reshape the values from a 2D Array to an ndarray\n",
    "    image = matrix_reshaped*dummy_image \n",
    "    return(image)\n",
    "\n",
    "def rgb_to_gray(image, c = [0.2125,0.7154,0.0721]):\n",
    "    \"\"\"\n",
    "    This function takes an RGB image and converts it into grayscale. \n",
    "    The output consists of two parts; (1) a 2D numpy array of the gray values and (2) a reshaped (:,:,3) version suitable for image outputting \n",
    "    \"\"\"\n",
    "    image_r, image_g, image_b = decompose_rgb(image)\n",
    "\n",
    "    gray_values = c[0]*image_r+c[1]*image_g+c[2]*image_b #Calculate the 'gray' values \n",
    "    gray_image = matrix_to_image(gray_values)\n",
    "    return(gray_values, gray_image)\n"
   ]
  },
  {
   "cell_type": "code",
   "execution_count": 19,
   "metadata": {},
   "outputs": [],
   "source": [
    "import image_analysis"
   ]
  },
  {
   "cell_type": "code",
   "execution_count": 20,
   "metadata": {},
   "outputs": [],
   "source": [
    "image = plt.imread('Boulder_image.jpg')"
   ]
  },
  {
   "cell_type": "code",
   "execution_count": 21,
   "metadata": {},
   "outputs": [
    {
     "data": {
      "text/plain": [
       "(array([[ 188.2844,  161.3657,  166.3825, ...,  106.    ,   95.5656,\n",
       "          103.6323],\n",
       "        [ 224.2938,  210.157 ,  174.6673, ...,   81.4971,   80.7819,\n",
       "          100.7062],\n",
       "        [ 252.1384,  250.7076,  208.9465, ...,   62.0683,   73.427 ,\n",
       "          104.9243],\n",
       "        ..., \n",
       "        [ 110.4701,  126.8989,  131.8989, ...,  137.4721,  129.4038,\n",
       "          137.4038],\n",
       "        [ 133.0451,  134.1893,  133.1893, ...,   79.6163,   93.548 ,\n",
       "           96.548 ],\n",
       "        [ 107.548 ,  106.6922,  105.121 , ...,  114.6163,  119.548 ,\n",
       "          114.6922]]), array([[[ 0.73548594,  0.73548594,  0.73548594],\n",
       "         [ 0.63033477,  0.63033477,  0.63033477],\n",
       "         [ 0.64993164,  0.64993164,  0.64993164],\n",
       "         ..., \n",
       "         [ 0.4140625 ,  0.4140625 ,  0.4140625 ],\n",
       "         [ 0.37330313,  0.37330313,  0.37330313],\n",
       "         [ 0.40481367,  0.40481367,  0.40481367]],\n",
       " \n",
       "        [[ 0.87614766,  0.87614766,  0.87614766],\n",
       "         [ 0.82092578,  0.82092578,  0.82092578],\n",
       "         [ 0.68229414,  0.68229414,  0.68229414],\n",
       "         ..., \n",
       "         [ 0.31834805,  0.31834805,  0.31834805],\n",
       "         [ 0.3155543 ,  0.3155543 ,  0.3155543 ],\n",
       "         [ 0.39338359,  0.39338359,  0.39338359]],\n",
       " \n",
       "        [[ 0.98491563,  0.98491563,  0.98491563],\n",
       "         [ 0.97932656,  0.97932656,  0.97932656],\n",
       "         [ 0.81619727,  0.81619727,  0.81619727],\n",
       "         ..., \n",
       "         [ 0.2424543 ,  0.2424543 ,  0.2424543 ],\n",
       "         [ 0.28682422,  0.28682422,  0.28682422],\n",
       "         [ 0.40986055,  0.40986055,  0.40986055]],\n",
       " \n",
       "        ..., \n",
       "        [[ 0.43152383,  0.43152383,  0.43152383],\n",
       "         [ 0.49569883,  0.49569883,  0.49569883],\n",
       "         [ 0.51523008,  0.51523008,  0.51523008],\n",
       "         ..., \n",
       "         [ 0.53700039,  0.53700039,  0.53700039],\n",
       "         [ 0.50548359,  0.50548359,  0.50548359],\n",
       "         [ 0.53673359,  0.53673359,  0.53673359]],\n",
       " \n",
       "        [[ 0.51970742,  0.51970742,  0.51970742],\n",
       "         [ 0.52417695,  0.52417695,  0.52417695],\n",
       "         [ 0.5202707 ,  0.5202707 ,  0.5202707 ],\n",
       "         ..., \n",
       "         [ 0.31100117,  0.31100117,  0.31100117],\n",
       "         [ 0.36542188,  0.36542188,  0.36542188],\n",
       "         [ 0.37714063,  0.37714063,  0.37714063]],\n",
       " \n",
       "        [[ 0.42010938,  0.42010938,  0.42010938],\n",
       "         [ 0.41676641,  0.41676641,  0.41676641],\n",
       "         [ 0.41062891,  0.41062891,  0.41062891],\n",
       "         ..., \n",
       "         [ 0.44771992,  0.44771992,  0.44771992],\n",
       "         [ 0.46698438,  0.46698438,  0.46698438],\n",
       "         [ 0.44801641,  0.44801641,  0.44801641]]]))"
      ]
     },
     "execution_count": 21,
     "metadata": {},
     "output_type": "execute_result"
    }
   ],
   "source": [
    "image_analysis.rgb_to_gray(image)"
   ]
  },
  {
   "cell_type": "code",
   "execution_count": null,
   "metadata": {},
   "outputs": [],
   "source": []
  }
 ],
 "metadata": {
  "kernelspec": {
   "display_name": "Python 3",
   "language": "python",
   "name": "python3"
  },
  "language_info": {
   "codemirror_mode": {
    "name": "ipython",
    "version": 3
   },
   "file_extension": ".py",
   "mimetype": "text/x-python",
   "name": "python",
   "nbconvert_exporter": "python",
   "pygments_lexer": "ipython3",
   "version": "3.6.6"
  }
 },
 "nbformat": 4,
 "nbformat_minor": 2
}
