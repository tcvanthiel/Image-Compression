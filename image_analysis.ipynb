{
 "cells": [
  {
   "cell_type": "code",
   "execution_count": 48,
   "metadata": {},
   "outputs": [
    {
     "name": "stdout",
     "output_type": "stream",
     "text": [
      "(682, 1024)\n"
     ]
    }
   ],
   "source": [
    "##################################################\n",
    "## Import RGB image and convert it to grayscale ##\n",
    "##################################################\n",
    "\n",
    "import matplotlib.pyplot as plt\n",
    "import numpy as np\n",
    "\n",
    "image = plt.imread('Boulder_image.jpg') #Import the image\n",
    "\n",
    "image_r = image[:,:,0] #Extract the red from the RGB code\n",
    "image_g = image[:,:,1] #Extract the green values from the RGB code\n",
    "image_b = image[:,:,2] #Extract the blue values from the RGB code\n",
    "image_zeros = np.zeros_like(image) #Copy the image, but turn everything to zero\n",
    "\n",
    "c = [0.2125,0.7154,0.0721] #Formula for turning RGB to Grayscale\n",
    "\n",
    "gray_values = (c[0]*image_r+c[1]*image_g+c[2]*image_b)\n",
    "\n",
    "\n",
    "\n",
    "\n",
    "\n",
    "\n",
    "\n"
   ]
  },
  {
   "cell_type": "code",
   "execution_count": null,
   "metadata": {},
   "outputs": [],
   "source": []
  }
 ],
 "metadata": {
  "kernelspec": {
   "display_name": "Python 3",
   "language": "python",
   "name": "python3"
  },
  "language_info": {
   "codemirror_mode": {
    "name": "ipython",
    "version": 3
   },
   "file_extension": ".py",
   "mimetype": "text/x-python",
   "name": "python",
   "nbconvert_exporter": "python",
   "pygments_lexer": "ipython3",
   "version": "3.6.6"
  }
 },
 "nbformat": 4,
 "nbformat_minor": 2
}
